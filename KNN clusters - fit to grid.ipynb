{
 "cells": [
  {
   "cell_type": "code",
   "execution_count": 66,
   "id": "0e889615",
   "metadata": {},
   "outputs": [],
   "source": [
    "import pandas as pd\n",
    "from sklearn.model_selection import GridSearchCV\n",
    "from sklearn.model_selection import RandomizedSearchCV\n",
    "from sklearn.model_selection import KFold"
   ]
  },
  {
   "cell_type": "code",
   "execution_count": 67,
   "id": "15a535c3",
   "metadata": {},
   "outputs": [],
   "source": [
    "from sklearn import datasets"
   ]
  },
  {
   "cell_type": "code",
   "execution_count": 68,
   "id": "60d08620",
   "metadata": {},
   "outputs": [],
   "source": [
    "df = pd.read_csv('iris.csv', delim_whitespace=True)"
   ]
  },
  {
   "cell_type": "code",
   "execution_count": 69,
   "id": "de05b159",
   "metadata": {},
   "outputs": [],
   "source": [
    "#ML\n",
    "from sklearn.neighbors import KNeighborsClassifier"
   ]
  },
  {
   "cell_type": "code",
   "execution_count": 70,
   "id": "f0ff187d",
   "metadata": {},
   "outputs": [],
   "source": [
    "iris = datasets.load_iris()"
   ]
  },
  {
   "cell_type": "code",
   "execution_count": 71,
   "id": "f2e4a815",
   "metadata": {},
   "outputs": [],
   "source": [
    "x = iris.data\n",
    "y = iris.target"
   ]
  },
  {
   "cell_type": "code",
   "execution_count": 72,
   "id": "1683a473",
   "metadata": {},
   "outputs": [],
   "source": [
    "#Instantiate the KNN classifier\n",
    "clf = KNeighborsClassifier()"
   ]
  },
  {
   "cell_type": "code",
   "execution_count": 73,
   "id": "2edcbac6",
   "metadata": {},
   "outputs": [
    {
     "data": {
      "text/plain": [
       "{'algorithm': 'auto',\n",
       " 'leaf_size': 30,\n",
       " 'metric': 'minkowski',\n",
       " 'metric_params': None,\n",
       " 'n_jobs': None,\n",
       " 'n_neighbors': 5,\n",
       " 'p': 2,\n",
       " 'weights': 'uniform'}"
      ]
     },
     "execution_count": 73,
     "metadata": {},
     "output_type": "execute_result"
    }
   ],
   "source": [
    "clf.get_params()"
   ]
  },
  {
   "cell_type": "code",
   "execution_count": 74,
   "id": "745a7490",
   "metadata": {},
   "outputs": [],
   "source": [
    "n_neighbors = [3,5,7,9,11,13,15,19,23,29]\n",
    "algos = ['ball_tree', 'kd_tree', 'brute']\n",
    "dist_metric = ['minkowski']\n",
    "p_root = [1,2,3,4,5,6,7]\n",
    "weights = ['uniform', 'distance']\n",
    "leaf_size = [15, 30, 40, 50, 60, 70]"
   ]
  },
  {
   "cell_type": "code",
   "execution_count": 75,
   "id": "50717b0f",
   "metadata": {},
   "outputs": [
    {
     "name": "stdout",
     "output_type": "stream",
     "text": [
      "{'n_neighbors': [3, 5, 7, 9, 11, 13, 15, 19, 23, 29], 'metric': ['minkowski'], 'p': [1, 2, 3, 4, 5, 6, 7], 'weights': ['uniform', 'distance']}\n"
     ]
    }
   ],
   "source": [
    "#Define the parameters dict \n",
    "parameters = dict(\n",
    "                n_neighbors = n_neighbors,\n",
    "                #algorithm = algos\n",
    "                metric = dist_metric,\n",
    "                p=p_root,\n",
    "                weights = weights,\n",
    "                #Leaf_size = leaf_size\n",
    "              )\n",
    "print(parameters)"
   ]
  },
  {
   "cell_type": "code",
   "execution_count": 85,
   "id": "01497837",
   "metadata": {},
   "outputs": [],
   "source": [
    "#Instantiate the grid search CV\n",
    "grid = GridSearchCV(estimator = clf,\n",
    "                    param_grid = parameters,\n",
    "                    scoring = 'accuracy',\n",
    "                    cv = kf,\n",
    "                    verbose=0)"
   ]
  },
  {
   "cell_type": "code",
   "execution_count": 86,
   "id": "33627568",
   "metadata": {},
   "outputs": [],
   "source": [
    "#define splits \n",
    "n_splits = 5\n",
    "kf = KFold(n_splits = n_splits, shuffle=True, random_state=100)"
   ]
  },
  {
   "cell_type": "code",
   "execution_count": 87,
   "id": "f5025b27",
   "metadata": {},
   "outputs": [
    {
     "data": {
      "text/plain": [
       "GridSearchCV(cv=KFold(n_splits=5, random_state=100, shuffle=True),\n",
       "             estimator=KNeighborsClassifier(),\n",
       "             param_grid={'metric': ['minkowski'],\n",
       "                         'n_neighbors': [3, 5, 7, 9, 11, 13, 15, 19, 23, 29],\n",
       "                         'p': [1, 2, 3, 4, 5, 6, 7],\n",
       "                         'weights': ['uniform', 'distance']},\n",
       "             scoring='accuracy')"
      ]
     },
     "execution_count": 87,
     "metadata": {},
     "output_type": "execute_result"
    }
   ],
   "source": [
    "#Fit the data to the grid object\n",
    "grid.fit(x,y)"
   ]
  },
  {
   "cell_type": "code",
   "execution_count": 88,
   "id": "e9716fb1",
   "metadata": {},
   "outputs": [
    {
     "data": {
      "text/plain": [
       "{'metric': 'minkowski', 'n_neighbors': 13, 'p': 3, 'weights': 'uniform'}"
      ]
     },
     "execution_count": 88,
     "metadata": {},
     "output_type": "execute_result"
    }
   ],
   "source": [
    "grid.best_params_"
   ]
  },
  {
   "cell_type": "code",
   "execution_count": 89,
   "id": "f56cf003",
   "metadata": {},
   "outputs": [
    {
     "data": {
      "text/plain": [
       "0.9866666666666667"
      ]
     },
     "execution_count": 89,
     "metadata": {},
     "output_type": "execute_result"
    }
   ],
   "source": [
    "grid.best_score_"
   ]
  },
  {
   "cell_type": "code",
   "execution_count": 94,
   "id": "fa83d143",
   "metadata": {},
   "outputs": [],
   "source": [
    "### Randomized Grid Search\n",
    "grid = RandomizedSearchCV(estimator=clf,\n",
    "                          param_distributions = parameters,\n",
    "                          scoring = 'accuracy',\n",
    "                          cv = kf,\n",
    "                          verbose = 0, \n",
    "                          n_iter = 50\n",
    "                         )\n",
    "                                  "
   ]
  },
  {
   "cell_type": "code",
   "execution_count": 96,
   "id": "06e82ddd",
   "metadata": {},
   "outputs": [
    {
     "name": "stdout",
     "output_type": "stream",
     "text": [
      "RandomizedSearchCV(cv=KFold(n_splits=5, random_state=100, shuffle=True),\n",
      "                   estimator=KNeighborsClassifier(), n_iter=50,\n",
      "                   param_distributions={'metric': ['minkowski'],\n",
      "                                        'n_neighbors': [3, 5, 7, 9, 11, 13, 15,\n",
      "                                                        19, 23, 29],\n",
      "                                        'p': [1, 2, 3, 4, 5, 6, 7],\n",
      "                                        'weights': ['uniform', 'distance']},\n",
      "                   scoring='accuracy')\n"
     ]
    }
   ],
   "source": [
    "#fit the grid\n",
    "print(grid.fit(x,y))"
   ]
  },
  {
   "cell_type": "code",
   "execution_count": 97,
   "id": "467bfb62",
   "metadata": {},
   "outputs": [
    {
     "data": {
      "text/plain": [
       "{'weights': 'uniform', 'p': 4, 'n_neighbors': 15, 'metric': 'minkowski'}"
      ]
     },
     "execution_count": 97,
     "metadata": {},
     "output_type": "execute_result"
    }
   ],
   "source": [
    "grid.best_params_\n"
   ]
  },
  {
   "cell_type": "code",
   "execution_count": 98,
   "id": "4ce9da01",
   "metadata": {},
   "outputs": [
    {
     "data": {
      "text/plain": [
       "{'metric': 'minkowski', 'n_neighbors': 13, 'p': 3, 'weights': 'uniform'}"
      ]
     },
     "execution_count": 98,
     "metadata": {},
     "output_type": "execute_result"
    }
   ],
   "source": [
    "{'metric': 'minkowski', 'n_neighbors': 13, 'p': 3, 'weights': 'uniform'}"
   ]
  },
  {
   "cell_type": "code",
   "execution_count": null,
   "id": "053636fc",
   "metadata": {},
   "outputs": [],
   "source": []
  }
 ],
 "metadata": {
  "kernelspec": {
   "display_name": "Python 3 (ipykernel)",
   "language": "python",
   "name": "python3"
  },
  "language_info": {
   "codemirror_mode": {
    "name": "ipython",
    "version": 3
   },
   "file_extension": ".py",
   "mimetype": "text/x-python",
   "name": "python",
   "nbconvert_exporter": "python",
   "pygments_lexer": "ipython3",
   "version": "3.9.12"
  }
 },
 "nbformat": 4,
 "nbformat_minor": 5
}
